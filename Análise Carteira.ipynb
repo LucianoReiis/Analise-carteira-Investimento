{
 "cells": [
  {
   "cell_type": "code",
   "execution_count": null,
   "metadata": {},
   "outputs": [],
   "source": [
    "# Importar Bibliotecas\n",
    "import pandas as pd\n",
    "import pandas_datareader.data as web\n",
    "from datetime import date\n",
    "import matplotlib.pyplot as plt\n",
    "\n",
    "# importar carteira\n",
    "carteira = pd.read_excel('carteira.xlsx')\n",
    "# display(carteira)\n",
    "\n",
    "# Atualizar valor atual\n",
    "preco_ativo = carteira.copy()\n",
    "preco = {}\n",
    "for ativos in carteira['Papel']:\n",
    "    preco_ativo = web.get_quote_yahoo(f'{ativos}.SA')['price'][0]\n",
    "    preco[ativos] = preco_ativo\n",
    "    carteira.loc[carteira['Papel']==ativos, 'Unit. Price'] = preco[ativos]\n",
    "    carteira.loc[carteira['Papel']==ativos, 'Total Price'] = preco[ativos] * carteira['Qty']\n",
    "# display(carteira)\n",
    "\n",
    "# plotar graficos\n",
    "fig, (ax1, ax2) = plt.subplots(1, 2)\n",
    "fig.set_size_inches(15, 5)\n",
    "grafico1 = carteira.plot.pie(ax=ax1, labels=carteira['Papel'], y='Total Price', legend=False, title='Distribuição Ativos da Carteira', figsize=(15,5), autopct='%.1f%%')\n",
    "grafico1.set_ylabel('')\n",
    "grafico2 = carteira.groupby('Segmento').sum().plot.pie(ax=ax2, y='Total Price', legend=False, title='Distribuição Classe da Carteira', figsize=(15,5), autopct='%.1f%%')\n",
    "grafico2.set_ylabel('')\n",
    "\n",
    "display(carteira)"
   ]
  },
  {
   "cell_type": "code",
   "execution_count": 13,
   "metadata": {},
   "outputs": [],
   "source": [
    "# Fazer análise de novas compras\n",
    "# pegar os dados\n",
    "# comparar (p/vpa, tx. adm., ...)\n",
    "# classificar as melhores por segmento"
   ]
  },
  {
   "cell_type": "code",
   "execution_count": null,
   "metadata": {},
   "outputs": [],
   "source": []
  }
 ],
 "metadata": {
  "kernelspec": {
   "display_name": "Python 3",
   "language": "python",
   "name": "python3"
  },
  "language_info": {
   "codemirror_mode": {
    "name": "ipython",
    "version": 3
   },
   "file_extension": ".py",
   "mimetype": "text/x-python",
   "name": "python",
   "nbconvert_exporter": "python",
   "pygments_lexer": "ipython3",
   "version": "3.8.5"
  }
 },
 "nbformat": 4,
 "nbformat_minor": 4
}
